{
  "nbformat": 4,
  "nbformat_minor": 0,
  "metadata": {
    "colab": {
      "provenance": []
    },
    "kernelspec": {
      "name": "python3",
      "display_name": "Python 3"
    },
    "language_info": {
      "name": "python"
    }
  },
  "cells": [
    {
      "cell_type": "code",
      "execution_count": 1,
      "metadata": {
        "colab": {
          "base_uri": "https://localhost:8080/"
        },
        "id": "xQ02sun-5Hg9",
        "outputId": "e75a6c11-f6ea-44a8-83da-d0f2b37f4b06"
      },
      "outputs": [
        {
          "output_type": "stream",
          "name": "stdout",
          "text": [
            "           sepal_length                            sepal_width              \\\n",
            "                   mean median  min  max       std        mean median  min   \n",
            "species                                                                      \n",
            "setosa            5.006    5.0  4.3  5.8  0.352490       3.428    3.4  2.3   \n",
            "versicolor        5.936    5.9  4.9  7.0  0.516171       2.770    2.8  2.0   \n",
            "virginica         6.588    6.5  4.9  7.9  0.635880       2.974    3.0  2.2   \n",
            "\n",
            "                          petal_length                            petal_width  \\\n",
            "            max       std         mean median  min  max       std        mean   \n",
            "species                                                                         \n",
            "setosa      4.4  0.379064        1.462   1.50  1.0  1.9  0.173664       0.246   \n",
            "versicolor  3.4  0.313798        4.260   4.35  3.0  5.1  0.469911       1.326   \n",
            "virginica   3.8  0.322497        5.552   5.55  4.5  6.9  0.551895       2.026   \n",
            "\n",
            "                                       \n",
            "           median  min  max       std  \n",
            "species                                \n",
            "setosa        0.2  0.1  0.6  0.105386  \n",
            "versicolor    1.3  1.0  1.8  0.197753  \n",
            "virginica     2.0  1.4  2.5  0.274650  \n"
          ]
        }
      ],
      "source": [
        "import pandas as pd\n",
        "import seaborn as sns\n",
        "\n",
        "# Load Iris dataset from seaborn\n",
        "df = sns.load_dataset('iris')\n",
        "\n",
        "# Group by species and get summary statistics\n",
        "grouped_stats = df.groupby('species').agg(['mean', 'median', 'min', 'max', 'std'])\n",
        "\n",
        "# Print summary statistics\n",
        "print(grouped_stats)\n"
      ]
    },
    {
      "cell_type": "code",
      "source": [
        "# Create a dictionary with species as keys and list of sepal_lengths as values\n",
        "sepal_length_by_species = df.groupby('species')['sepal_length'].apply(list).to_dict()\n",
        "\n",
        "print(sepal_length_by_species)\n"
      ],
      "metadata": {
        "colab": {
          "base_uri": "https://localhost:8080/"
        },
        "id": "t7WP1SpY5Uqi",
        "outputId": "03626764-0586-4f70-b6f6-3983a16cbf6d"
      },
      "execution_count": 2,
      "outputs": [
        {
          "output_type": "stream",
          "name": "stdout",
          "text": [
            "{'setosa': [5.1, 4.9, 4.7, 4.6, 5.0, 5.4, 4.6, 5.0, 4.4, 4.9, 5.4, 4.8, 4.8, 4.3, 5.8, 5.7, 5.4, 5.1, 5.7, 5.1, 5.4, 5.1, 4.6, 5.1, 4.8, 5.0, 5.0, 5.2, 5.2, 4.7, 4.8, 5.4, 5.2, 5.5, 4.9, 5.0, 5.5, 4.9, 4.4, 5.1, 5.0, 4.5, 4.4, 5.0, 5.1, 4.8, 5.1, 4.6, 5.3, 5.0], 'versicolor': [7.0, 6.4, 6.9, 5.5, 6.5, 5.7, 6.3, 4.9, 6.6, 5.2, 5.0, 5.9, 6.0, 6.1, 5.6, 6.7, 5.6, 5.8, 6.2, 5.6, 5.9, 6.1, 6.3, 6.1, 6.4, 6.6, 6.8, 6.7, 6.0, 5.7, 5.5, 5.5, 5.8, 6.0, 5.4, 6.0, 6.7, 6.3, 5.6, 5.5, 5.5, 6.1, 5.8, 5.0, 5.6, 5.7, 5.7, 6.2, 5.1, 5.7], 'virginica': [6.3, 5.8, 7.1, 6.3, 6.5, 7.6, 4.9, 7.3, 6.7, 7.2, 6.5, 6.4, 6.8, 5.7, 5.8, 6.4, 6.5, 7.7, 7.7, 6.0, 6.9, 5.6, 7.7, 6.3, 6.7, 7.2, 6.2, 6.1, 6.4, 7.2, 7.4, 7.9, 6.4, 6.3, 6.1, 7.7, 6.3, 6.4, 6.0, 6.9, 6.7, 6.9, 5.8, 6.8, 6.7, 6.7, 6.3, 6.5, 6.2, 5.9]}\n"
          ]
        }
      ]
    },
    {
      "cell_type": "code",
      "source": [
        "#PART 2: Statistical Summary of Each Iris Species\n",
        "# Filter data for each species\n",
        "setosa = df[df['species'] == 'setosa']\n",
        "versicolor = df[df['species'] == 'versicolor']\n",
        "virginica = df[df['species'] == 'virginica']\n",
        "\n",
        "# Function to display statistics\n",
        "def display_stats(data, name):\n",
        "    print(f\"\\nStatistics for {name}:\\n\")\n",
        "    print(data.describe(percentiles=[.25, .5, .75]))\n",
        "\n",
        "# Show stats\n",
        "display_stats(setosa, \"Iris-setosa\")\n",
        "display_stats(versicolor, \"Iris-versicolor\")\n",
        "display_stats(virginica, \"Iris-virginica\")\n"
      ],
      "metadata": {
        "colab": {
          "base_uri": "https://localhost:8080/"
        },
        "id": "QBnmf8OV5m1K",
        "outputId": "de5b6ba4-2a9f-4490-8718-456111261145"
      },
      "execution_count": 4,
      "outputs": [
        {
          "output_type": "stream",
          "name": "stdout",
          "text": [
            "\n",
            "Statistics for Iris-setosa:\n",
            "\n",
            "       sepal_length  sepal_width  petal_length  petal_width\n",
            "count      50.00000    50.000000     50.000000    50.000000\n",
            "mean        5.00600     3.428000      1.462000     0.246000\n",
            "std         0.35249     0.379064      0.173664     0.105386\n",
            "min         4.30000     2.300000      1.000000     0.100000\n",
            "25%         4.80000     3.200000      1.400000     0.200000\n",
            "50%         5.00000     3.400000      1.500000     0.200000\n",
            "75%         5.20000     3.675000      1.575000     0.300000\n",
            "max         5.80000     4.400000      1.900000     0.600000\n",
            "\n",
            "Statistics for Iris-versicolor:\n",
            "\n",
            "       sepal_length  sepal_width  petal_length  petal_width\n",
            "count     50.000000    50.000000     50.000000    50.000000\n",
            "mean       5.936000     2.770000      4.260000     1.326000\n",
            "std        0.516171     0.313798      0.469911     0.197753\n",
            "min        4.900000     2.000000      3.000000     1.000000\n",
            "25%        5.600000     2.525000      4.000000     1.200000\n",
            "50%        5.900000     2.800000      4.350000     1.300000\n",
            "75%        6.300000     3.000000      4.600000     1.500000\n",
            "max        7.000000     3.400000      5.100000     1.800000\n",
            "\n",
            "Statistics for Iris-virginica:\n",
            "\n",
            "       sepal_length  sepal_width  petal_length  petal_width\n",
            "count      50.00000    50.000000     50.000000     50.00000\n",
            "mean        6.58800     2.974000      5.552000      2.02600\n",
            "std         0.63588     0.322497      0.551895      0.27465\n",
            "min         4.90000     2.200000      4.500000      1.40000\n",
            "25%         6.22500     2.800000      5.100000      1.80000\n",
            "50%         6.50000     3.000000      5.550000      2.00000\n",
            "75%         6.90000     3.175000      5.875000      2.30000\n",
            "max         7.90000     3.800000      6.900000      2.50000\n"
          ]
        }
      ]
    },
    {
      "cell_type": "code",
      "source": [],
      "metadata": {
        "id": "orfMwasL5quh"
      },
      "execution_count": null,
      "outputs": []
    }
  ]
}